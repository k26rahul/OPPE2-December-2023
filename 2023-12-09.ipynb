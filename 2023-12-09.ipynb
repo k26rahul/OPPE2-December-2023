{
 "cells": [
  {
   "cell_type": "code",
   "execution_count": 2,
   "metadata": {},
   "outputs": [
    {
     "data": {
      "text/plain": [
       "1"
      ]
     },
     "execution_count": 2,
     "metadata": {},
     "output_type": "execute_result"
    }
   ],
   "source": [
    "len('5')"
   ]
  },
  {
   "cell_type": "code",
   "execution_count": 4,
   "metadata": {},
   "outputs": [
    {
     "data": {
      "text/plain": [
       "True"
      ]
     },
     "execution_count": 4,
     "metadata": {},
     "output_type": "execute_result"
    }
   ],
   "source": [
    "num = '74747444747777744447747474747747474774777747474774747474774747474444'\n",
    "\n",
    "num.count('4') + num.count('7') == len(num)"
   ]
  },
  {
   "cell_type": "code",
   "execution_count": 6,
   "metadata": {},
   "outputs": [
    {
     "data": {
      "text/plain": [
       "True"
      ]
     },
     "execution_count": 6,
     "metadata": {},
     "output_type": "execute_result"
    }
   ],
   "source": [
    "def check_lucky(num):\n",
    "  return num.count('4') + num.count('7') == len(num)\n",
    "\n",
    "\n",
    "check_lucky(\n",
    "    '74747444747777744447747474747747474774777747474774747474774747474444')"
   ]
  },
  {
   "cell_type": "code",
   "execution_count": 12,
   "metadata": {},
   "outputs": [],
   "source": [
    "def check_lucky(num):\n",
    "  num = str(num)\n",
    "  print(f'Checking if {num} is lucky 🤔')\n",
    "  for digit in num:\n",
    "    if digit not in {'4', '7'}:\n",
    "      return False\n",
    "  return True"
   ]
  },
  {
   "cell_type": "code",
   "execution_count": 13,
   "metadata": {},
   "outputs": [
    {
     "name": "stdout",
     "output_type": "stream",
     "text": [
      "Checking if 7 is lucky 🤔\n",
      "Yes, 44440000000000000000000000000000444 is nearly lucky ⭐\n"
     ]
    }
   ],
   "source": [
    "input_num = '44440000000000000000000000000000444'\n",
    "\n",
    "if check_lucky(input_num.count('4') + input_num.count('7')):\n",
    "  print(f'Yes, {input_num} is nearly lucky ⭐')\n",
    "else:\n",
    "  print('No, {input_num} is unlucky 😭')"
   ]
  },
  {
   "cell_type": "code",
   "execution_count": 16,
   "metadata": {},
   "outputs": [
    {
     "name": "stdout",
     "output_type": "stream",
     "text": [
      "Checking if 14 is lucky 🤔\n",
      "No, 44440000000000000000000000000000000000000000000000000004747477444 is unlucky 😭\n"
     ]
    }
   ],
   "source": [
    "input_num = '44440000000000000000000000000000000000000000000000000004747477444'\n",
    "\n",
    "if check_lucky(input_num.count('4') + input_num.count('7')):\n",
    "  print(f'Yes, {input_num} is nearly lucky ⭐')\n",
    "else:\n",
    "  print(f'No, {input_num} is unlucky 😭')"
   ]
  },
  {
   "cell_type": "code",
   "execution_count": 19,
   "metadata": {},
   "outputs": [
    {
     "name": "stdout",
     "output_type": "stream",
     "text": [
      "Checking if 68 is lucky 🤔\n",
      "No, 74747444747777744447747474747747474774777747474774747474774747474444 is unlucky 😭\n"
     ]
    }
   ],
   "source": [
    "input_num = '74747444747777744447747474747747474774777747474774747474774747474444'\n",
    "\n",
    "if check_lucky(input_num.count('4') + input_num.count('7')):\n",
    "  print(f'Yes, {input_num} is nearly lucky ⭐')\n",
    "else:\n",
    "  print(f'No, {input_num} is unlucky 😭')"
   ]
  }
 ],
 "metadata": {
  "kernelspec": {
   "display_name": "Python 3",
   "language": "python",
   "name": "python3"
  },
  "language_info": {
   "codemirror_mode": {
    "name": "ipython",
    "version": 3
   },
   "file_extension": ".py",
   "mimetype": "text/x-python",
   "name": "python",
   "nbconvert_exporter": "python",
   "pygments_lexer": "ipython3",
   "version": "3.12.0"
  }
 },
 "nbformat": 4,
 "nbformat_minor": 2
}
