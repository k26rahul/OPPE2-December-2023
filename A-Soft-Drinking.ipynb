{
 "cells": [
  {
   "cell_type": "code",
   "execution_count": 2,
   "metadata": {},
   "outputs": [
    {
     "name": "stdout",
     "output_type": "stream",
     "text": [
      "6 80 100\n",
      "2\n"
     ]
    }
   ],
   "source": [
    "n, k, l, c, d, p, nl, np = map(int, '3 4 5 10 8 100 3 1'.split())  # 2\n",
    "# n, k, l, c, d, p, nl, np = map(int, '1 4 5 5 3 10 3 1'.split())  # 6\n",
    "\n",
    "volume = l*k\n",
    "\n",
    "per_vol = volume // n\n",
    "lime = c*d\n",
    "salt = p//np\n",
    "\n",
    "print(per_vol, lime, salt)\n",
    "\n",
    "toasts = min(per_vol, lime, salt)//n\n",
    "\n",
    "print(toasts)"
   ]
  },
  {
   "cell_type": "code",
   "execution_count": 8,
   "metadata": {},
   "outputs": [
    {
     "name": "stdout",
     "output_type": "stream",
     "text": [
      "6\n"
     ]
    }
   ],
   "source": [
    "# n, k, l, c, d, p, nl, np = map(int, '3 4 5 10 8 100 3 1'.split())  # 2\n",
    "n, k, l, c, d, p, nl, np = map(int, '1 4 5 5 3 10 3 1'.split())  # 6\n",
    "\n",
    "volume = l*k\n",
    "\n",
    "per_vol = volume // nl\n",
    "lime = c*d\n",
    "salt = p//np\n",
    "\n",
    "toasts = min(per_vol, lime, salt)//n\n",
    "\n",
    "print(toasts)"
   ]
  },
  {
   "cell_type": "code",
   "execution_count": 2,
   "metadata": {},
   "outputs": [
    {
     "name": "stdout",
     "output_type": "stream",
     "text": [
      "3 4 5 10 8 100 3 1\n"
     ]
    }
   ],
   "source": [
    "n, k, l, c, d, p, nl, np = map(int, '3 4 5 10 8 100 3 1'.split())\n",
    "\n",
    "print(n, k, l, c, d, p, nl, np)"
   ]
  },
  {
   "cell_type": "code",
   "execution_count": 4,
   "metadata": {},
   "outputs": [
    {
     "name": "stdout",
     "output_type": "stream",
     "text": [
      "6 80 100\n",
      "2\n"
     ]
    }
   ],
   "source": [
    "drink_milliliters = k * l\n",
    "lime_slices = c * d\n",
    "\n",
    "total_toasts_1 = drink_milliliters // nl\n",
    "total_toasts_2 = lime_slices\n",
    "total_toasts_3 = p // np\n",
    "\n",
    "print(total_toasts_1,\n",
    "      total_toasts_2,\n",
    "      total_toasts_3,)\n",
    "\n",
    "print(min(total_toasts_1, total_toasts_2, total_toasts_3)//n)"
   ]
  },
  {
   "cell_type": "code",
   "execution_count": 17,
   "metadata": {},
   "outputs": [],
   "source": [
    "n = 5\n",
    "left = [0, 1, 0, 1, 0]\n",
    "right = [1, 0, 1, 1, 1]"
   ]
  },
  {
   "cell_type": "code",
   "execution_count": 21,
   "metadata": {},
   "outputs": [
    {
     "data": {
      "text/plain": [
       "4"
      ]
     },
     "execution_count": 21,
     "metadata": {},
     "output_type": "execute_result"
    },
    {
     "data": {
      "text/plain": [
       "2"
      ]
     },
     "execution_count": 21,
     "metadata": {},
     "output_type": "execute_result"
    }
   ],
   "source": [
    "sum(left)\n",
    "sum(right)"
   ]
  },
  {
   "cell_type": "code",
   "execution_count": 19,
   "metadata": {},
   "outputs": [],
   "source": [
    "if sum(left) < sum(right):\n",
    "  left, right = right, left"
   ]
  },
  {
   "cell_type": "code",
   "execution_count": 20,
   "metadata": {},
   "outputs": [
    {
     "data": {
      "text/plain": [
       "3"
      ]
     },
     "execution_count": 20,
     "metadata": {},
     "output_type": "execute_result"
    }
   ],
   "source": [
    "n - sum(left) + sum(right)"
   ]
  }
 ],
 "metadata": {
  "kernelspec": {
   "display_name": "Python 3 (ipykernel)",
   "language": "python",
   "name": "python3"
  },
  "language_info": {
   "codemirror_mode": {
    "name": "ipython",
    "version": 3
   },
   "file_extension": ".py",
   "mimetype": "text/x-python",
   "name": "python",
   "nbconvert_exporter": "python",
   "pygments_lexer": "ipython3",
   "version": "3.12.0"
  }
 },
 "nbformat": 4,
 "nbformat_minor": 4
}
