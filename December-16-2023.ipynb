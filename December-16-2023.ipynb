{
 "cells": [
  {
   "cell_type": "markdown",
   "metadata": {},
   "source": [
    "# I have a long tail"
   ]
  },
  {
   "cell_type": "code",
   "execution_count": 3,
   "metadata": {},
   "outputs": [
    {
     "data": {
      "text/plain": [
       "'12.3214'"
      ]
     },
     "execution_count": 3,
     "metadata": {},
     "output_type": "execute_result"
    },
    {
     "data": {
      "text/plain": [
       "['12', '3214']"
      ]
     },
     "execution_count": 3,
     "metadata": {},
     "output_type": "execute_result"
    }
   ],
   "source": [
    "num = 12.3214\n",
    "\n",
    "str(num)\n",
    "str(num).split('.')"
   ]
  },
  {
   "cell_type": "code",
   "execution_count": 7,
   "metadata": {},
   "outputs": [
    {
     "name": "stdout",
     "output_type": "stream",
     "text": [
      "I have a long tail\n"
     ]
    }
   ],
   "source": [
    "n_left = 0\n",
    "\n",
    "for digit in str(num):\n",
    "  if digit == '.':\n",
    "    break\n",
    "  n_left += 1\n",
    "\n",
    "n_right = len(str(num)) - n_left\n",
    "\n",
    "if n_right > n_left:\n",
    "  print('I have a long tail')"
   ]
  },
  {
   "cell_type": "code",
   "execution_count": 6,
   "metadata": {},
   "outputs": [
    {
     "name": "stdout",
     "output_type": "stream",
     "text": [
      "I have a long tail\n"
     ]
    }
   ],
   "source": [
    "L = str(num).split('.')\n",
    "\n",
    "n_left = len(L[0])\n",
    "n_right = len(L[1])\n",
    "\n",
    "if n_right > n_left:\n",
    "  print('I have a long tail')"
   ]
  },
  {
   "cell_type": "markdown",
   "metadata": {},
   "source": [
    "# Can the ant reach the food?"
   ]
  },
  {
   "cell_type": "code",
   "execution_count": 9,
   "metadata": {},
   "outputs": [],
   "source": [
    "grid = [\n",
    "    ['-', '-', '-', '-', 'G'],\n",
    "    ['-', '-', '-', '-', '-'],\n",
    "    ['-', '-', 'B', '-', '-'],\n",
    "    ['-', '-', '-', '-', '-'],\n",
    "    ['-', '-', '-', '-', '-'],\n",
    "]"
   ]
  },
  {
   "cell_type": "code",
   "execution_count": 22,
   "metadata": {},
   "outputs": [],
   "source": [
    "# Your only job is to find the position of ant and food (Position means row and column index)\n",
    "\n",
    "# Once you have determined the positions:\n",
    "# 1. See the conditions where the ant can't reach the food\n",
    "# 2. If it can reach the food then calculate the distance"
   ]
  },
  {
   "cell_type": "code",
   "execution_count": 23,
   "metadata": {},
   "outputs": [
    {
     "data": {
      "text/plain": [
       "(0, 4)"
      ]
     },
     "execution_count": 23,
     "metadata": {},
     "output_type": "execute_result"
    },
    {
     "data": {
      "text/plain": [
       "(2, 2)"
      ]
     },
     "execution_count": 23,
     "metadata": {},
     "output_type": "execute_result"
    }
   ],
   "source": [
    "food_pos = (0, 0)\n",
    "ant_pos = (0, 0)\n",
    "\n",
    "size = len(grid)\n",
    "\n",
    "for i in range(size):\n",
    "  row = grid[i]\n",
    "\n",
    "  if 'G' in row:\n",
    "    food_pos = (i, row.index('G'))\n",
    "\n",
    "  if 'B' in row:\n",
    "    ant_pos = (i, row.index('B'))\n",
    "\n",
    "food_pos\n",
    "ant_pos"
   ]
  },
  {
   "cell_type": "code",
   "execution_count": 32,
   "metadata": {},
   "outputs": [
    {
     "data": {
      "text/plain": [
       "(0, 4)"
      ]
     },
     "execution_count": 32,
     "metadata": {},
     "output_type": "execute_result"
    },
    {
     "data": {
      "text/plain": [
       "(2, 2)"
      ]
     },
     "execution_count": 32,
     "metadata": {},
     "output_type": "execute_result"
    }
   ],
   "source": [
    "food_row, food_col = 0, 0\n",
    "ant_row, ant_col = 0, 0\n",
    "\n",
    "size = len(grid)\n",
    "\n",
    "for i in range(size):\n",
    "  row = grid[i]\n",
    "\n",
    "  if 'G' in row:\n",
    "    food_row, food_col = i, row.index('G')\n",
    "\n",
    "  if 'B' in row:\n",
    "    ant_row, ant_col = i, row.index('B')\n",
    "\n",
    "food_row, food_col\n",
    "ant_row, ant_col"
   ]
  },
  {
   "cell_type": "code",
   "execution_count": 36,
   "metadata": {},
   "outputs": [
    {
     "name": "stdout",
     "output_type": "stream",
     "text": [
      "Oh yeah it can get the food.\n"
     ]
    }
   ],
   "source": [
    "if food_row > ant_row or food_col < ant_col:\n",
    "  print(\"It's impossible that the ant could ever reach the food.\")\n",
    "else:\n",
    "  print(\"Oh yeah it can get the food.\")"
   ]
  },
  {
   "cell_type": "code",
   "execution_count": 39,
   "metadata": {},
   "outputs": [
    {
     "data": {
      "text/plain": [
       "4"
      ]
     },
     "execution_count": 39,
     "metadata": {},
     "output_type": "execute_result"
    }
   ],
   "source": [
    "steps = (ant_row - food_row) + (food_col - ant_col)\n",
    "\n",
    "steps"
   ]
  },
  {
   "cell_type": "code",
   "execution_count": 6,
   "metadata": {},
   "outputs": [
    {
     "data": {
      "text/plain": [
       "(True, 4)"
      ]
     },
     "execution_count": 6,
     "metadata": {},
     "output_type": "execute_result"
    }
   ],
   "source": [
    "grid = [\n",
    "\n",
    "    ['W', 'W', 'W', 'W', 'G'],\n",
    "    ['W', 'W', 'W', 'W', 'W'],\n",
    "    ['W', 'W', 'B', 'W', 'W'],\n",
    "    ['W', 'W', 'W', 'W', 'W'],\n",
    "    ['W', 'W', 'W', 'W', 'W']\n",
    "]\n",
    "\n",
    "\n",
    "def can_reach(grid):\n",
    "  n = len(grid)\n",
    "  hor_food = 0\n",
    "  vert_food = 0\n",
    "  hor_ant = 0\n",
    "  vert_ant = 0\n",
    "\n",
    "  for i in range(n):\n",
    "    for j in range(n):\n",
    "      if grid[i][j] == 'B':\n",
    "        hor_ant = i\n",
    "        vert_ant = j\n",
    "        # print(hor_ant, vert_ant)\n",
    "      elif grid[i][j] == 'G':\n",
    "        hor_food = i\n",
    "        vert_food = j\n",
    "        # print(hor_food, vert_food)\n",
    "\n",
    "  if vert_food > vert_ant or hor_food > hor_ant:\n",
    "    count1 = abs(hor_food - hor_ant)\n",
    "    count2 = abs(vert_food - vert_ant)\n",
    "    return True, count1 + count2\n",
    "  else:\n",
    "    return False, None\n",
    "\n",
    "\n",
    "print(can_reach(grid))"
   ]
  },
  {
   "cell_type": "code",
   "execution_count": 28,
   "metadata": {},
   "outputs": [],
   "source": [
    "def find_positions(grid):\n",
    "  food_row, food_col = 0, 0\n",
    "  ant_row, ant_col = 0, 0\n",
    "\n",
    "  size = len(grid)\n",
    "\n",
    "  for i in range(size):\n",
    "    row = grid[i]\n",
    "\n",
    "    if 'G' in row:\n",
    "      food_row, food_col = i, row.index('G')\n",
    "\n",
    "    if 'B' in row:\n",
    "      ant_row, ant_col = i, row.index('B')\n",
    "\n",
    "  return food_row, food_col, ant_row, ant_col\n",
    "  # print(food_row, food_col, ant_row, ant_col)"
   ]
  },
  {
   "cell_type": "code",
   "execution_count": 30,
   "metadata": {},
   "outputs": [],
   "source": [
    "def find_positions(grid):\n",
    "  food_row, food_col = 0, 0\n",
    "  ant_row, ant_col = 0, 0\n",
    "\n",
    "  size = len(grid)\n",
    "\n",
    "  for i in range(size):\n",
    "    for j in range(len(grid[i])):\n",
    "      if grid[i][j] == 'G':\n",
    "        food_row, food_col = i, j\n",
    "\n",
    "      if grid[i][j] == 'B':\n",
    "        ant_row, ant_col = i, j\n",
    "\n",
    "  return food_row, food_col, ant_row, ant_col"
   ]
  },
  {
   "cell_type": "code",
   "execution_count": 31,
   "metadata": {},
   "outputs": [
    {
     "name": "stdout",
     "output_type": "stream",
     "text": [
      "Food Position: (0, 4)\n",
      "Ant Position: (2, 2)\n"
     ]
    }
   ],
   "source": [
    "food_row, food_col, ant_row, ant_col = find_positions(grid)\n",
    "print(\"Food Position:\", (food_row, food_col))\n",
    "print(\"Ant Position:\", (ant_row, ant_col))"
   ]
  },
  {
   "cell_type": "code",
   "execution_count": 29,
   "metadata": {},
   "outputs": [
    {
     "name": "stdout",
     "output_type": "stream",
     "text": [
      "0 4 2 2\n"
     ]
    }
   ],
   "source": [
    "find_positions(grid)"
   ]
  },
  {
   "cell_type": "code",
   "execution_count": 15,
   "metadata": {},
   "outputs": [
    {
     "data": {
      "text/plain": [
       "True"
      ]
     },
     "execution_count": 15,
     "metadata": {},
     "output_type": "execute_result"
    },
    {
     "data": {
      "text/plain": [
       "False"
      ]
     },
     "execution_count": 15,
     "metadata": {},
     "output_type": "execute_result"
    }
   ],
   "source": [
    "L = [1, 2, 3]\n",
    "\n",
    "3 in L\n",
    "4 in L"
   ]
  },
  {
   "cell_type": "code",
   "execution_count": 19,
   "metadata": {},
   "outputs": [],
   "source": [
    "ant_pos = (0, 0)\n",
    "\n",
    "# Somehow do this\n",
    "# ant_pos = (row_index, col_index)"
   ]
  },
  {
   "cell_type": "code",
   "execution_count": 9,
   "metadata": {},
   "outputs": [
    {
     "name": "stdout",
     "output_type": "stream",
     "text": [
      "[1, 2, 3, 4]\n",
      "[2, 1, 3, 4]\n"
     ]
    }
   ],
   "source": [
    "L = [1, 2, 3, 4]\n",
    "\n",
    "print(L)\n",
    "\n",
    "L[0], L[1] = L[1], L[0]\n",
    "\n",
    "print(L)"
   ]
  },
  {
   "cell_type": "code",
   "execution_count": 10,
   "metadata": {},
   "outputs": [
    {
     "name": "stdout",
     "output_type": "stream",
     "text": [
      "[1, 2, 3, 4]\n",
      "[2, 1, 3, 4]\n"
     ]
    }
   ],
   "source": [
    "L = [1, 2, 3, 4]\n",
    "\n",
    "print(L)\n",
    "\n",
    "temp = L[0]\n",
    "L[0] = L[1]\n",
    "L[1] = temp\n",
    "\n",
    "print(L)"
   ]
  },
  {
   "cell_type": "code",
   "execution_count": 15,
   "metadata": {},
   "outputs": [
    {
     "name": "stdout",
     "output_type": "stream",
     "text": [
      "[2, 1, 3]\n",
      "[2, 1, 3]\n",
      "[2, 1, 3]\n"
     ]
    }
   ],
   "source": [
    "M = [\n",
    "    [1, 2, 3],\n",
    "    [1, 2, 3],\n",
    "    [1, 2, 3],\n",
    "]\n",
    "\n",
    "for row in M:\n",
    "  temp = row[0]\n",
    "  row[0] = row[1]\n",
    "  row[1] = temp\n",
    "\n",
    "print(*M, sep='\\n')"
   ]
  },
  {
   "cell_type": "code",
   "execution_count": 26,
   "metadata": {},
   "outputs": [
    {
     "name": "stdout",
     "output_type": "stream",
     "text": [
      "Just kidding I should be printed only two times\n",
      "Just kidding I should be printed only two times\n",
      "[[2, 1, 3, 4], [3, 2, 4, 5]]\n"
     ]
    }
   ],
   "source": [
    "M = [[1, 2, 3, 4], [2, 3, 4, 5]]\n",
    "a = 0\n",
    "b = 1\n",
    "axis = 1\n",
    "\n",
    "\n",
    "def interchange(M, a, b, axis):\n",
    "  if axis == 0:\n",
    "    value = M[a]\n",
    "    M[a] = M[b]\n",
    "    M[b] = value\n",
    "\n",
    "  if axis == 1:\n",
    "    for i in range(len(M)):\n",
    "      print('Just kidding I should be printed only two times')\n",
    "      val = M[i][a]\n",
    "      M[i][a] = M[i][b]\n",
    "      M[i][b] = val\n",
    "\n",
    "  return M\n",
    "\n",
    "\n",
    "print(interchange(M, a, b, axis))"
   ]
  },
  {
   "cell_type": "code",
   "execution_count": 33,
   "metadata": {},
   "outputs": [
    {
     "data": {
      "text/plain": [
       "[['Naveen', 'M', '77', '84', '62'],\n",
       " ['Neeraj', 'M', '90', '50', '70'],\n",
       " ['Soumya', 'F', '69', '77', '83'],\n",
       " ['Jayakrishnan', 'M', '58', '58', '96'],\n",
       " ['Rajneesh', 'M', '53', '46', '52'],\n",
       " ['Meera', 'F', '85', '60', '97'],\n",
       " ['Ivanka', 'F', '56', '75', '91'],\n",
       " ['Preetha', 'F', '63', '44', '92'],\n",
       " ['Janani', 'F', '92', '56', '85'],\n",
       " ['Hasina', 'F', '72', '62', '100'],\n",
       " ['Harish', 'M', '72', '40', '48'],\n",
       " ['Dinesh', 'M', '73', '53', '59'],\n",
       " ['Deepak', 'M', '85', '83', '44'],\n",
       " ['Chitra', 'F', '41', '68', '60'],\n",
       " ['Mary', 'F', '47', '59', '62'],\n",
       " ['Anamika', 'F', '97', '40', '88'],\n",
       " ['Uma', 'F', '56', '81', '95'],\n",
       " ['Aditya', 'M', '63', '57', '46'],\n",
       " ['Clarence', 'F', '55', '41', '73'],\n",
       " ['Devika', 'F', '74', '96', '83'],\n",
       " ['Akshaya', 'F', '87', '67', '53'],\n",
       " ['Fatima', 'F', '70', '70', '54'],\n",
       " ['Gita', 'F', '97', '42', '52'],\n",
       " ['Archna', 'F', '72', '97', '68'],\n",
       " ['Charulatha', 'F', '95', '44', '89'],\n",
       " ['Sachin', 'M', '98', '81', '58'],\n",
       " ['Arshad', 'M', '86', '65', '42'],\n",
       " ['Jasmine', 'F', '41', '40', '90'],\n",
       " ['Karthik', 'M', '100', '94', '59'],\n",
       " ['Cathy', 'F', '79', '91', '43'],\n",
       " ['Sahana', 'F', '56', '49', '90'],\n",
       " ['Vincent', 'M', '48', '68', '40'],\n",
       " ['Gopi', 'M', '98', '90', '85'],\n",
       " ['Tanmoy', 'M', '69', '51', '41'],\n",
       " ['Vetrivel', 'M', '66', '56', '54'],\n",
       " ['Kareena', 'F', '69', '76', '73'],\n",
       " ['Anirban', 'M', '78', '73', '53'],\n",
       " ['Harshad', 'M', '48', '100', '91'],\n",
       " ['Ramya', 'F', '41', '46', '68'],\n",
       " ['Omkar', 'M', '68', '43', '86'],\n",
       " ['Ram', 'M', '80', '46', '87'],\n",
       " ['Bishen', 'M', '41', '93', '84'],\n",
       " ['Praveen', 'M', '84', '45', '52'],\n",
       " ['Danny', 'M', '73', '82', '85'],\n",
       " ['Samyukta', 'F', '46', '66', '92'],\n",
       " ['Kalam', 'M', '71', '42', '47'],\n",
       " ['Ria', 'F', '80', '54', '80'],\n",
       " ['Induja', 'F', '72', '95', '86'],\n",
       " ['Hardik', 'M', '55', '85', '89'],\n",
       " ['Dinesh', 'M', '51', '66', '45']]"
      ]
     },
     "execution_count": 33,
     "metadata": {},
     "output_type": "execute_result"
    }
   ],
   "source": [
    "data = open('./Oppe_2MockProblem_3.csv', 'r').read().split()[1:]\n",
    "\n",
    "[line.split(',') for line in data]"
   ]
  }
 ],
 "metadata": {
  "kernelspec": {
   "display_name": "Python 3 (ipykernel)",
   "language": "python",
   "name": "python3"
  },
  "language_info": {
   "codemirror_mode": {
    "name": "ipython",
    "version": 3
   },
   "file_extension": ".py",
   "mimetype": "text/x-python",
   "name": "python",
   "nbconvert_exporter": "python",
   "pygments_lexer": "ipython3",
   "version": "3.12.0"
  }
 },
 "nbformat": 4,
 "nbformat_minor": 4
}
